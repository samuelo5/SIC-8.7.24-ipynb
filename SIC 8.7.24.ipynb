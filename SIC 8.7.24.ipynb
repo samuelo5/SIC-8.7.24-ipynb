{
 "cells": [
  {
   "cell_type": "code",
   "execution_count": 4,
   "id": "fa369ede-54e2-47d1-8cfb-ffd6068de91a",
   "metadata": {},
   "outputs": [
    {
     "name": "stdout",
     "output_type": "stream",
     "text": [
      "Sorry, you lose.\n"
     ]
    }
   ],
   "source": [
    "width = 0\n",
    "height = 0\n",
    "color = 'red'\n",
    "emphasis = 'strong'\n",
    "if width == 0 and height == 0 and color == 'red' and emphasis == 'strong' or highlight > 100:\n",
    "    print('Sorry, you lose.')"
   ]
  },
  {
   "cell_type": "code",
   "execution_count": 5,
   "id": "4bf046da-b5b4-45f9-bbb3-0f6f0f1ab043",
   "metadata": {},
   "outputs": [
    {
     "ename": "SyntaxError",
     "evalue": "unterminated string literal (detected at line 1) (1679058590.py, line 1)",
     "output_type": "error",
     "traceback": [
      "\u001b[1;36m  Cell \u001b[1;32mIn[5], line 1\u001b[1;36m\u001b[0m\n\u001b[1;33m    print('Hello)\u001b[0m\n\u001b[1;37m          ^\u001b[0m\n\u001b[1;31mSyntaxError\u001b[0m\u001b[1;31m:\u001b[0m unterminated string literal (detected at line 1)\n"
     ]
    }
   ],
   "source": [
    "print('Hello)"
   ]
  },
  {
   "cell_type": "code",
   "execution_count": null,
   "id": "176de941-5bc4-497b-8f21-2a8d62bf0694",
   "metadata": {},
   "outputs": [],
   "source": [
    "num = int(imput('Imput an integer: ')) "
   ]
  },
  {
   "cell_type": "code",
   "execution_count": 6,
   "id": "b170d019-069d-4fa7-836b-4d440663bc17",
   "metadata": {},
   "outputs": [
    {
     "name": "stdin",
     "output_type": "stream",
     "text": [
      "Enter the radius : 4.0\n"
     ]
    },
    {
     "name": "stdout",
     "output_type": "stream",
     "text": [
      "Radius of the circle 4.0\n",
      "Area of the circle 50.24\n",
      "Cicmfrence of the circle 25.12\n"
     ]
    }
   ],
   "source": [
    "PI = 3.14\n",
    "radius = float(input('Enter the radius :'))\n",
    "circum = PI * radius * radius\n",
    "area = 2.0 * PI * radius\n",
    "\n",
    "print('Radius of the circle', radius)\n",
    "print('Area of the circle', circum)\n",
    "print('Cicmfrence of the circle', area)"
   ]
  },
  {
   "cell_type": "code",
   "execution_count": 7,
   "id": "a37e034e-8ac2-43a1-9eba-d745a265b849",
   "metadata": {},
   "outputs": [
    {
     "data": {
      "text/plain": [
       "int"
      ]
     },
     "execution_count": 7,
     "metadata": {},
     "output_type": "execute_result"
    }
   ],
   "source": [
    "type(98)"
   ]
  },
  {
   "cell_type": "code",
   "execution_count": 8,
   "id": "8b47226a-f159-4ae6-970d-c498e19fa58e",
   "metadata": {},
   "outputs": [
    {
     "data": {
      "text/plain": [
       "float"
      ]
     },
     "execution_count": 8,
     "metadata": {},
     "output_type": "execute_result"
    }
   ],
   "source": [
    "type(98.5)"
   ]
  },
  {
   "cell_type": "code",
   "execution_count": 9,
   "id": "e8de0a96-dd1a-4f75-8d5b-52b2dd74a3b3",
   "metadata": {},
   "outputs": [
    {
     "data": {
      "text/plain": [
       "str"
      ]
     },
     "execution_count": 9,
     "metadata": {},
     "output_type": "execute_result"
    }
   ],
   "source": [
    "type('54')"
   ]
  },
  {
   "cell_type": "code",
   "execution_count": 11,
   "id": "c29331e7-8fda-4f7c-8615-fcfd3e9c3930",
   "metadata": {},
   "outputs": [
    {
     "data": {
      "text/plain": [
       "complex"
      ]
     },
     "execution_count": 11,
     "metadata": {},
     "output_type": "execute_result"
    }
   ],
   "source": [
    "type(10 + 3j)"
   ]
  },
  {
   "cell_type": "code",
   "execution_count": 16,
   "id": "338c211f-c996-4f70-b2eb-aa56d39968d9",
   "metadata": {},
   "outputs": [
    {
     "ename": "TypeError",
     "evalue": "can only concatenate str (not \"int\") to str",
     "output_type": "error",
     "traceback": [
      "\u001b[1;31m---------------------------------------------------------------------------\u001b[0m",
      "\u001b[1;31mTypeError\u001b[0m                                 Traceback (most recent call last)",
      "Cell \u001b[1;32mIn[16], line 1\u001b[0m\n\u001b[1;32m----> 1\u001b[0m python \u001b[38;5;241m=\u001b[39m \u001b[38;5;124m\"\u001b[39m\u001b[38;5;124mMy hello World\u001b[39m\u001b[38;5;124m\"\u001b[39m \u001b[38;5;241m+\u001b[39m \u001b[38;5;241m10\u001b[39m\n\u001b[0;32m      2\u001b[0m \u001b[38;5;28mprint\u001b[39m(python)\n",
      "\u001b[1;31mTypeError\u001b[0m: can only concatenate str (not \"int\") to str"
     ]
    }
   ],
   "source": [
    "python = \"My hello World\" + 10\n",
    "print(python)"
   ]
  },
  {
   "cell_type": "code",
   "execution_count": 19,
   "id": "7362926e-5487-40a1-bc77-7954f5c9f51f",
   "metadata": {},
   "outputs": [
    {
     "data": {
      "text/plain": [
       "1000"
      ]
     },
     "execution_count": 19,
     "metadata": {},
     "output_type": "execute_result"
    }
   ],
   "source": [
    "10**3"
   ]
  },
  {
   "cell_type": "code",
   "execution_count": 20,
   "id": "bd5da565-fa43-4909-860d-f0f2d6b12630",
   "metadata": {},
   "outputs": [
    {
     "data": {
      "text/plain": [
       "4"
      ]
     },
     "execution_count": 20,
     "metadata": {},
     "output_type": "execute_result"
    }
   ],
   "source": [
    "9%5"
   ]
  },
  {
   "cell_type": "code",
   "execution_count": 21,
   "id": "b65057dd-6bcb-4a59-af31-b68b31c3a23c",
   "metadata": {},
   "outputs": [
    {
     "data": {
      "text/plain": [
       "(7+26j)"
      ]
     },
     "execution_count": 21,
     "metadata": {},
     "output_type": "execute_result"
    }
   ],
   "source": [
    "(3 + 4j) * (5 + 2j)"
   ]
  },
  {
   "cell_type": "code",
   "execution_count": 22,
   "id": "c1558def-70b4-4ca0-8ad1-cb1565776356",
   "metadata": {},
   "outputs": [
    {
     "data": {
      "text/plain": [
       "(0.793103448275862+0.48275862068965514j)"
      ]
     },
     "execution_count": 22,
     "metadata": {},
     "output_type": "execute_result"
    }
   ],
   "source": [
    "(3 + 4j) / (5 + 2j)"
   ]
  },
  {
   "cell_type": "code",
   "execution_count": 24,
   "id": "5c96a75a-0a27-43ff-8fd1-7d7cd6b5504c",
   "metadata": {},
   "outputs": [
    {
     "data": {
      "text/plain": [
       "'Hello World'"
      ]
     },
     "execution_count": 24,
     "metadata": {},
     "output_type": "execute_result"
    }
   ],
   "source": [
    "\"Hello \" + \"World\""
   ]
  },
  {
   "cell_type": "code",
   "execution_count": 30,
   "id": "b764147f-290e-4859-95d2-5dbeac1eb2e6",
   "metadata": {},
   "outputs": [
    {
     "name": "stdout",
     "output_type": "stream",
     "text": [
      "line\n",
      "break\n"
     ]
    }
   ],
   "source": [
    "print(\"line\\nbreak\")"
   ]
  },
  {
   "cell_type": "code",
   "execution_count": 31,
   "id": "ecd2ca69-12c5-4670-a2c8-1be837bae93e",
   "metadata": {},
   "outputs": [
    {
     "name": "stdout",
     "output_type": "stream",
     "text": [
      "Python keyword list...\n",
      "['False', 'None', 'True', 'and', 'as', 'assert', 'async', 'await', 'break', 'class', 'continue', 'def', 'del', 'elif', 'else', 'except', 'finally', 'for', 'from', 'global', 'if', 'import', 'in', 'is', 'lambda', 'nonlocal', 'not', 'or', 'pass', 'raise', 'return', 'try', 'while', 'with', 'yield']\n"
     ]
    }
   ],
   "source": [
    "import keyword\n",
    "\n",
    "# Search for Python Keyords\n",
    "print(\"Python keyword list...\")\n",
    "print(keyword.kwlist)"
   ]
  },
  {
   "cell_type": "code",
   "execution_count": 32,
   "id": "bd5517f3-f24f-4bd4-a9d0-7833ebf2fb56",
   "metadata": {},
   "outputs": [
    {
     "name": "stdout",
     "output_type": "stream",
     "text": [
      "<class 'int'>\n",
      "<class 'float'>\n",
      "<class 'str'>\n"
     ]
    }
   ],
   "source": [
    "num = 85\n",
    "print(type(num))\n",
    "\n",
    "pi = 3.14159\n",
    "print(type(pi))\n",
    "\n",
    "message = \"Good morning\"\n",
    "print(type(message))"
   ]
  },
  {
   "cell_type": "code",
   "execution_count": 18,
   "id": "36e56cda-af6f-4567-bad9-224b17708384",
   "metadata": {},
   "outputs": [
    {
     "name": "stdin",
     "output_type": "stream",
     "text": [
      "Enter an Interger:  21\n"
     ]
    },
    {
     "name": "stdout",
     "output_type": "stream",
     "text": [
      "Is the integer odd: True\n"
     ]
    }
   ],
   "source": [
    "n = int(input(\"Enter an Interger: \"))\n",
    "if n / 2 == 0:\n",
    "    print(\"Is the integer odd: False\")\n",
    "else:\n",
    "    print(\"Is the integer odd: True\")"
   ]
  },
  {
   "cell_type": "code",
   "execution_count": 31,
   "id": "58b29743-eb03-4fc8-9410-dff7241b2f2e",
   "metadata": {},
   "outputs": [
    {
     "name": "stdin",
     "output_type": "stream",
     "text": [
      "Enter year:  2005\n"
     ]
    },
    {
     "name": "stdout",
     "output_type": "stream",
     "text": [
      "False\n"
     ]
    }
   ],
   "source": [
    "year = int(input(\"Enter year: \"))\n",
    "result = year % 4 == 0\n",
    "print(result)\n"
   ]
  },
  {
   "cell_type": "code",
   "execution_count": 41,
   "id": "cf04cd61-8674-4a08-a2aa-e7c1be8f5236",
   "metadata": {},
   "outputs": [
    {
     "name": "stdout",
     "output_type": "stream",
     "text": [
      "youth discount\n",
      "Welcome\n"
     ]
    }
   ],
   "source": [
    "age = int(input(\"Enter age: \"))\n",
    "if age < 20:\n",
    "    print('youth discount')\n",
    "print(\"Welcome\")    "
   ]
  },
  {
   "cell_type": "code",
   "execution_count": 9,
   "id": "c7e6da26-4965-42de-af13-86c071b58e5f",
   "metadata": {},
   "outputs": [
    {
     "name": "stdin",
     "output_type": "stream",
     "text": [
      "Enter an interger:  12\n"
     ]
    },
    {
     "name": "stdout",
     "output_type": "stream",
     "text": [
      "True\n"
     ]
    }
   ],
   "source": [
    "n = int(input(\"Enter an interger: \"))\n",
    "result = n % 2 == 0 and n > 0 <= 100\n",
    "print(result)"
   ]
  },
  {
   "cell_type": "code",
   "execution_count": 16,
   "id": "bbb03825-36eb-4aea-935c-b497a57e631b",
   "metadata": {},
   "outputs": [
    {
     "name": "stdin",
     "output_type": "stream",
     "text": [
      "Enter radius:  11\n"
     ]
    },
    {
     "name": "stdout",
     "output_type": "stream",
     "text": [
      "69.115024\n",
      "380.132632\n"
     ]
    }
   ],
   "source": [
    "PI = 3.141592\n",
    "radius = float(input(\"Enter radius: \"))\n",
    "circum = 2 * radius * PI\n",
    "area = PI * radius**2\n",
    "print(circum)\n",
    "print(area)"
   ]
  },
  {
   "cell_type": "code",
   "execution_count": 13,
   "id": "a495c6f6-3ed6-4ae4-bc07-ae8157e89df8",
   "metadata": {},
   "outputs": [
    {
     "name": "stdout",
     "output_type": "stream",
     "text": [
      "True\n",
      "True\n",
      "False\n"
     ]
    }
   ],
   "source": [
    "print('aaa' in 'aaa-bbb-ccc')\n",
    "print('bbb' in 'aaa-bbb-ccc')\n",
    "print('ddd' in 'aaa-bbb-ccc')"
   ]
  },
  {
   "cell_type": "code",
   "execution_count": 17,
   "id": "b3f4bea5-ac08-4a7e-b13c-cb9de64f3e1e",
   "metadata": {},
   "outputs": [
    {
     "name": "stdin",
     "output_type": "stream",
     "text": [
      "Enter three integers divided by space:  10 20 30\n"
     ]
    },
    {
     "name": "stdout",
     "output_type": "stream",
     "text": [
      "Input:  10 20 30\n",
      "Input separated by split() method:  ['10', '20', '30']\n"
     ]
    }
   ],
   "source": [
    "str1 = input('Enter three integers divided by space: ')\n",
    "print('Input: ', str1)\n",
    "print('Input separated by split() method: ', str1.split())"
   ]
  },
  {
   "cell_type": "code",
   "execution_count": 12,
   "id": "1f4c0009-edc1-4524-82e4-b03c27ddfe73",
   "metadata": {},
   "outputs": [
    {
     "name": "stdin",
     "output_type": "stream",
     "text": [
      "Enter age:  16\n"
     ]
    },
    {
     "name": "stdout",
     "output_type": "stream",
     "text": [
      "Youth\n"
     ]
    },
    {
     "name": "stdin",
     "output_type": "stream",
     "text": [
      "Enter age:  20\n"
     ]
    },
    {
     "name": "stdout",
     "output_type": "stream",
     "text": [
      "Adult\n"
     ]
    },
    {
     "name": "stdin",
     "output_type": "stream",
     "text": [
      "Enter age:  5\n"
     ]
    },
    {
     "name": "stdout",
     "output_type": "stream",
     "text": [
      "Kid\n"
     ]
    }
   ],
   "source": [
    "age = int(input(\"Enter age: \"))\n",
    "if age < 20 and age >=10:\n",
    "    print(\"Youth\")\n",
    "    age = int(input(\"Enter age: \"))\n",
    "    if age >=20:\n",
    "        print(\"Adult\")\n",
    "        age = int(input(\"Enter age: \"))\n",
    "        if age < 10:\n",
    "            print(\"Kid\")\n",
    "            "
   ]
  },
  {
   "cell_type": "code",
   "execution_count": 21,
   "id": "9fc6b8b3-0e1c-49d0-840b-cdc2327239b7",
   "metadata": {},
   "outputs": [
    {
     "name": "stdin",
     "output_type": "stream",
     "text": [
      "Which side will you attack?(left, middle, right) :  left\n"
     ]
    },
    {
     "name": "stdout",
     "output_type": "stream",
     "text": [
      "Congrats!! Offense succeeded\n",
      "computer defense position : Right\n"
     ]
    }
   ],
   "source": [
    "import random\n",
    "\n",
    "n = random.randint(1, 3) # randomly generates numbers among 1,2,3\n",
    "if n == 1:\n",
    "    computer_choice=\"Left\"\n",
    "elif n == 2:\n",
    "    computer_choice=\"Middle\"\n",
    "else:\n",
    "    computer_choice = \"Right\"\n",
    "\n",
    "user_choice = input(\"Which side will you attack?(left, middle, right) : \")\n",
    "if computer_choice == user_choice:\n",
    "    print(\"Offensive failed.\")\n",
    "else:\n",
    "    print(\"Congrats!! Offense succeeded\")\n",
    "print('computer defense position :', computer_choice)"
   ]
  },
  {
   "cell_type": "code",
   "execution_count": 36,
   "id": "3f6fc077-719a-4dd1-ab56-f6f07b02a053",
   "metadata": {},
   "outputs": [
    {
     "ename": "SyntaxError",
     "evalue": "invalid syntax (1248747055.py, line 6)",
     "output_type": "error",
     "traceback": [
      "\u001b[1;36m  Cell \u001b[1;32mIn[36], line 6\u001b[1;36m\u001b[0m\n\u001b[1;33m    eilf time <= 1800:\u001b[0m\n\u001b[1;37m         ^\u001b[0m\n\u001b[1;31mSyntaxError\u001b[0m\u001b[1;31m:\u001b[0m invalid syntax\n"
     ]
    }
   ],
   "source": [
    "time = int(input(\"Enter time: \"))\n",
    "if time <= 1200 :\n",
    "    print(\"Good Morning\")\n",
    "elif time <= 1500:\n",
    "    print(\"Good Afternoon\")\n",
    "eilf time <= 1800:\n",
    "    print(\"Good Evening\")\n",
    "elif time <= 2400:\n",
    "    print(\"Good Night\")"
   ]
  },
  {
   "cell_type": "code",
   "execution_count": 44,
   "id": "2a7f3afa-db6a-410b-80ae-1a42543e807f",
   "metadata": {},
   "outputs": [
    {
     "name": "stdout",
     "output_type": "stream",
     "text": [
      "The fruit types are:\n",
      " 1.Apple\n",
      " 2.Grape\n",
      " 3.Melon\n",
      " 4.Orange\n"
     ]
    },
    {
     "name": "stdin",
     "output_type": "stream",
     "text": [
      ">>>>PLEASE ENTER THE FRUIT NUMBER ONLY<<<<:  2\n",
      "How many are you taking:  90\n"
     ]
    },
    {
     "name": "stdout",
     "output_type": "stream",
     "text": [
      "Fruit selected : Grape\n",
      "Price : 6000\n",
      "Quantity : 90\n",
      "Total price is 540000 won.\n"
     ]
    },
    {
     "name": "stdin",
     "output_type": "stream",
     "text": [
      "Insert money please(ex: 15000)>>> 1000000\n"
     ]
    },
    {
     "name": "stdout",
     "output_type": "stream",
     "text": [
      "1000000 won recieved. Your change is 460000 won.\n"
     ]
    }
   ],
   "source": [
    "print(\"The fruit types are:\\n 1.Apple\\n 2.Grape\\n 3.Melon\\n 4.Orange\")\n",
    "order = int(input(\">>>>PLEASE ENTER THE FRUIT NUMBER ONLY<<<<: \"))\n",
    "count = int(input(\"How many are you taking: \"))\n",
    "\n",
    "if order == 1:\n",
    "    fruit = 'Apple'\n",
    "    price = 5000\n",
    "elif order == 2:\n",
    "    fruit = 'Grape'\n",
    "    price = 6000\n",
    "elif order == 3:\n",
    "    fruit = 'Melon'\n",
    "    price = 8000\n",
    "else:\n",
    "    fruit = 'Orange'\n",
    "    price = 2000\n",
    "\n",
    "print('Fruit selected :', fruit)\n",
    "print('Price :', price)\n",
    "print('Quantity :', count)\n",
    "print('Total price is', price * count, 'won.')\n",
    "\n",
    "money = int(input('Insert money please(ex: 15000)>>>'))\n",
    "if money < price * count :\n",
    "    print('Not enough money.')\n",
    "else :\n",
    "    change = money - price * count\n",
    "    print(money, 'won recieved. Your change is', change, 'won.')"
   ]
  },
  {
   "cell_type": "code",
   "execution_count": 7,
   "id": "539e62b9-19c5-447c-8641-8282270c0410",
   "metadata": {},
   "outputs": [
    {
     "name": "stdout",
     "output_type": "stream",
     "text": [
      "a is greater than b\n"
     ]
    }
   ],
   "source": [
    "a = 200\n",
    "b = 33\n",
    "if b > a:\n",
    "  print(\"b is greater than a\")\n",
    "elif a == b:\n",
    "  print(\"a and b are equal\")\n",
    "else:\n",
    "  print(\"a is greater than b\")\n"
   ]
  },
  {
   "cell_type": "code",
   "execution_count": 11,
   "id": "24501335-2c7c-488e-8a52-0c7477b256aa",
   "metadata": {},
   "outputs": [
    {
     "name": "stdin",
     "output_type": "stream",
     "text": [
      "Enter ID:  ilovepython\n",
      "Enter Password:  mypass1234\n"
     ]
    },
    {
     "name": "stdout",
     "output_type": "stream",
     "text": [
      "Welcome\n"
     ]
    }
   ],
   "source": [
    "my_id = \"ilovepython\"\n",
    "password = \"mypass1234\"\n",
    "string1 = input(\"Enter ID: \")\n",
    "string2 = input(\"Enter Password: \")\n",
    "if string1 == my_id and string2 == password:\n",
    "    print(\"Welcome\")\n",
    "elif string1 != my_id:\n",
    "    print(\"ID not found.\")\n",
    "else:\n",
    "    print(\"The password is wrong.\")"
   ]
  },
  {
   "cell_type": "code",
   "execution_count": 36,
   "id": "ddc6fca5-0d5f-4221-92b0-312c9c020a7e",
   "metadata": {},
   "outputs": [
    {
     "name": "stdout",
     "output_type": "stream",
     "text": [
      "1)Addition, 2)Subtration, 3)Divison, 4)Multiplication\n"
     ]
    },
    {
     "name": "stdin",
     "output_type": "stream",
     "text": [
      "Enter the desired number of operation:  2\n",
      "Enter first number:  10\n",
      "Enter second number:  20\n"
     ]
    },
    {
     "name": "stdout",
     "output_type": "stream",
     "text": [
      "result\n"
     ]
    }
   ],
   "source": [
    "print(\"1)Addition, 2)Subtration, 3)Divison, 4)Multiplication\")\n",
    "x = int(input(\"Enter the desired number of operation: \"))\n",
    "\n",
    "a = int(input(\"Enter first number: \"))\n",
    "b = int(input(\"Enter second number: \"))\n",
    "\n",
    "if x == 1:\n",
    "    result = 'a + b'\n",
    "    print(\"result\")\n",
    "elif x == 2:\n",
    "    result = 'a - b'\n",
    "    print(\"result\")\n",
    "elif x == 3:\n",
    "    result = 'a / b'\n",
    "    print(\"result\")\n",
    "elif x == 4:\n",
    "    result = 'a * b'\n",
    "    print(\"result\")"
   ]
  },
  {
   "cell_type": "code",
   "execution_count": 24,
   "id": "1d4aed2a-94a6-4a88-ac2b-60fffb0e88fc",
   "metadata": {},
   "outputs": [
    {
     "name": "stdout",
     "output_type": "stream",
     "text": [
      "vowels are: a e i o u\n"
     ]
    },
    {
     "name": "stdin",
     "output_type": "stream",
     "text": [
      "Enter the alphabet:  g\n"
     ]
    },
    {
     "name": "stdout",
     "output_type": "stream",
     "text": [
      "it is consonant\n"
     ]
    }
   ],
   "source": [
    "print(\"vowels are: a e i o u\")\n",
    "alphabet = str(input(\"Enter the alphabet: \"))\n",
    "\n",
    "if alphabet == 'a':\n",
    "    print(\"it is a vowel\")\n",
    "elif alphabet == 'e':\n",
    "    print(\"it is a vowel\")\n",
    "elif alphabet == 'i':\n",
    "    print(\"it is a vowel\")\n",
    "elif alphabet == 'o':\n",
    "    print(\"it is a vowel\")\n",
    "elif alphabet == 'u':\n",
    "    print(\"it is a vowel\")\n",
    "else:\n",
    "    print(\"it is consonant\")"
   ]
  },
  {
   "cell_type": "code",
   "execution_count": 2,
   "id": "a0271e21-ece6-42ed-8b73-6f5da4c07904",
   "metadata": {},
   "outputs": [
    {
     "name": "stdout",
     "output_type": "stream",
     "text": [
      "Welcome to yummy resturant. Here is the menu: \n",
      " -Burger(enter b) \n",
      " -Chicken(enter c) \n",
      " -Pizza(enter p)\n"
     ]
    },
    {
     "name": "stdin",
     "output_type": "stream",
     "text": [
      "Choose a menu (enter b,c,p):  q\n"
     ]
    },
    {
     "name": "stdout",
     "output_type": "stream",
     "text": [
      "invalid choice. Please enter again\n",
      "Welcome to yummy resturant. Here is the menu: \n",
      " -Burger(enter b) \n",
      " -Chicken(enter c) \n",
      " -Pizza(enter p)\n"
     ]
    },
    {
     "name": "stdin",
     "output_type": "stream",
     "text": [
      "Choose a menu (enter b,c,p):  y\n"
     ]
    },
    {
     "name": "stdout",
     "output_type": "stream",
     "text": [
      "invalid choice. Exiting the programme\n"
     ]
    }
   ],
   "source": [
    "print(\"Welcome to yummy resturant. Here is the menu: \\n -Burger(enter b) \\n -Chicken(enter c) \\n -Pizza(enter p)\")\n",
    "order = str(input(\"Choose a menu (enter b,c,p): \")).lower()\n",
    "\n",
    "if order == 'b':\n",
    "    print(\"You choose Burger\")\n",
    "elif order == 'c':\n",
    "    print(\"You choose Chicken\")\n",
    "elif order == 'p':\n",
    "    print(\"You choose Pizza\")\n",
    "else:\n",
    "    print(\"invalid choice. Please enter again\")\n",
    "    print(\"Welcome to yummy resturant. Here is the menu: \\n -Burger(enter b) \\n -Chicken(enter c) \\n -Pizza(enter p)\")\n",
    "    order = str(input(\"Choose a menu (enter b,c,p): \")).lower()\n",
    "    \n",
    "    if order == 'b':\n",
    "        print(\"You choose Burger\")\n",
    "    elif order == 'c':\n",
    "        print(\"You choose Chicken\")\n",
    "    elif order == 'p':\n",
    "        print(\"You choose Pizza\")\n",
    "    else:\n",
    "        print(\"invalid choice. Exiting the programme\")"
   ]
  },
  {
   "cell_type": "code",
   "execution_count": 4,
   "id": "ca49a3c7-6bce-4668-93f8-3dcb77f78ada",
   "metadata": {},
   "outputs": [
    {
     "name": "stdout",
     "output_type": "stream",
     "text": [
      "Possible combinations of David sandwich shop\n",
      "Rye bread + Meatball + Lettuce + Mayonnaise\n",
      "Rye bread + Meatball + Lettuce + Honey Mustard\n",
      "Rye bread + Meatball + Lettuce + Chili\n",
      "Rye bread + Meatball + Tomato + Mayonnaise\n",
      "Rye bread + Meatball + Tomato + Honey Mustard\n",
      "Rye bread + Meatball + Tomato + Chili\n",
      "Rye bread + Meatball + Cucumber + Mayonnaise\n",
      "Rye bread + Meatball + Cucumber + Honey Mustard\n",
      "Rye bread + Meatball + Cucumber + Chili\n",
      "Rye bread + Sausage + Lettuce + Mayonnaise\n",
      "Rye bread + Sausage + Lettuce + Honey Mustard\n",
      "Rye bread + Sausage + Lettuce + Chili\n",
      "Rye bread + Sausage + Tomato + Mayonnaise\n",
      "Rye bread + Sausage + Tomato + Honey Mustard\n",
      "Rye bread + Sausage + Tomato + Chili\n",
      "Rye bread + Sausage + Cucumber + Mayonnaise\n",
      "Rye bread + Sausage + Cucumber + Honey Mustard\n",
      "Rye bread + Sausage + Cucumber + Chili\n",
      "Rye bread + Chicken breasts + Lettuce + Mayonnaise\n",
      "Rye bread + Chicken breasts + Lettuce + Honey Mustard\n",
      "Rye bread + Chicken breasts + Lettuce + Chili\n",
      "Rye bread + Chicken breasts + Tomato + Mayonnaise\n",
      "Rye bread + Chicken breasts + Tomato + Honey Mustard\n",
      "Rye bread + Chicken breasts + Tomato + Chili\n",
      "Rye bread + Chicken breasts + Cucumber + Mayonnaise\n",
      "Rye bread + Chicken breasts + Cucumber + Honey Mustard\n",
      "Rye bread + Chicken breasts + Cucumber + Chili\n",
      "Wheat + Meatball + Lettuce + Mayonnaise\n",
      "Wheat + Meatball + Lettuce + Honey Mustard\n",
      "Wheat + Meatball + Lettuce + Chili\n",
      "Wheat + Meatball + Tomato + Mayonnaise\n",
      "Wheat + Meatball + Tomato + Honey Mustard\n",
      "Wheat + Meatball + Tomato + Chili\n",
      "Wheat + Meatball + Cucumber + Mayonnaise\n",
      "Wheat + Meatball + Cucumber + Honey Mustard\n",
      "Wheat + Meatball + Cucumber + Chili\n",
      "Wheat + Sausage + Lettuce + Mayonnaise\n",
      "Wheat + Sausage + Lettuce + Honey Mustard\n",
      "Wheat + Sausage + Lettuce + Chili\n",
      "Wheat + Sausage + Tomato + Mayonnaise\n",
      "Wheat + Sausage + Tomato + Honey Mustard\n",
      "Wheat + Sausage + Tomato + Chili\n",
      "Wheat + Sausage + Cucumber + Mayonnaise\n",
      "Wheat + Sausage + Cucumber + Honey Mustard\n",
      "Wheat + Sausage + Cucumber + Chili\n",
      "Wheat + Chicken breasts + Lettuce + Mayonnaise\n",
      "Wheat + Chicken breasts + Lettuce + Honey Mustard\n",
      "Wheat + Chicken breasts + Lettuce + Chili\n",
      "Wheat + Chicken breasts + Tomato + Mayonnaise\n",
      "Wheat + Chicken breasts + Tomato + Honey Mustard\n",
      "Wheat + Chicken breasts + Tomato + Chili\n",
      "Wheat + Chicken breasts + Cucumber + Mayonnaise\n",
      "Wheat + Chicken breasts + Cucumber + Honey Mustard\n",
      "Wheat + Chicken breasts + Cucumber + Chili\n",
      "White + Meatball + Lettuce + Mayonnaise\n",
      "White + Meatball + Lettuce + Honey Mustard\n",
      "White + Meatball + Lettuce + Chili\n",
      "White + Meatball + Tomato + Mayonnaise\n",
      "White + Meatball + Tomato + Honey Mustard\n",
      "White + Meatball + Tomato + Chili\n",
      "White + Meatball + Cucumber + Mayonnaise\n",
      "White + Meatball + Cucumber + Honey Mustard\n",
      "White + Meatball + Cucumber + Chili\n",
      "White + Sausage + Lettuce + Mayonnaise\n",
      "White + Sausage + Lettuce + Honey Mustard\n",
      "White + Sausage + Lettuce + Chili\n",
      "White + Sausage + Tomato + Mayonnaise\n",
      "White + Sausage + Tomato + Honey Mustard\n",
      "White + Sausage + Tomato + Chili\n",
      "White + Sausage + Cucumber + Mayonnaise\n",
      "White + Sausage + Cucumber + Honey Mustard\n",
      "White + Sausage + Cucumber + Chili\n",
      "White + Chicken breasts + Lettuce + Mayonnaise\n",
      "White + Chicken breasts + Lettuce + Honey Mustard\n",
      "White + Chicken breasts + Lettuce + Chili\n",
      "White + Chicken breasts + Tomato + Mayonnaise\n",
      "White + Chicken breasts + Tomato + Honey Mustard\n",
      "White + Chicken breasts + Tomato + Chili\n",
      "White + Chicken breasts + Cucumber + Mayonnaise\n",
      "White + Chicken breasts + Cucumber + Honey Mustard\n",
      "White + Chicken breasts + Cucumber + Chili\n"
     ]
    }
   ],
   "source": [
    "breads = [\"Rye bread\", \"Wheat\", \"White\"]\n",
    "meats = [\"Meatball\", \"Sausage\", \"Chicken breasts\",]\n",
    "vegis = [\"Lettuce\", \"Tomato\", \"Cucumber\"]\n",
    "sauces = [\"Mayonnaise\", \"Honey Mustard\", \"Chili\"]\n",
    "\n",
    "print('Possible combinations of David sandwich shop')\n",
    "for b in breads:\n",
    "    for m in meats:\n",
    "        for v in vegis:\n",
    "            for s in sauces:\n",
    "                print(b+ \" + \"+m+ \" + \"+v+ \" + \"+ s)"
   ]
  },
  {
   "cell_type": "code",
   "execution_count": 11,
   "id": "57f41642-93da-4e2c-88c2-8dbe74175ca8",
   "metadata": {},
   "outputs": [
    {
     "ename": "TypeError",
     "evalue": "'float' object cannot be interpreted as an integer",
     "output_type": "error",
     "traceback": [
      "\u001b[1;31m---------------------------------------------------------------------------\u001b[0m",
      "\u001b[1;31mTypeError\u001b[0m                                 Traceback (most recent call last)",
      "Cell \u001b[1;32mIn[11], line 1\u001b[0m\n\u001b[1;32m----> 1\u001b[0m \u001b[38;5;28;01mfor\u001b[39;00m i \u001b[38;5;129;01min\u001b[39;00m \u001b[38;5;28mrange\u001b[39m(\u001b[38;5;241m5.0\u001b[39m):\n\u001b[0;32m      2\u001b[0m     \u001b[38;5;28mprint\u001b[39m(i, \u001b[38;5;124m\"\u001b[39m\u001b[38;5;124mWelcome to everyone!!\u001b[39m\u001b[38;5;124m\"\u001b[39m)\n",
      "\u001b[1;31mTypeError\u001b[0m: 'float' object cannot be interpreted as an integer"
     ]
    }
   ],
   "source": [
    "for i in range(5.0):\n",
    "    print(i, \"Welcome to everyone!!\")"
   ]
  },
  {
   "cell_type": "code",
   "execution_count": 12,
   "id": "43adb20e-78d7-4d84-bd8f-365db1ee93a5",
   "metadata": {},
   "outputs": [
    {
     "name": "stdout",
     "output_type": "stream",
     "text": [
      "[0, 1, 2, 3, 4]\n"
     ]
    }
   ],
   "source": [
    "print(list(range(0, 5, 1)))"
   ]
  },
  {
   "cell_type": "code",
   "execution_count": 13,
   "id": "d2ad5624-b135-46d0-b4d1-3609be6addd0",
   "metadata": {},
   "outputs": [
    {
     "name": "stdout",
     "output_type": "stream",
     "text": [
      "[0, 2, 4]\n"
     ]
    }
   ],
   "source": [
    "print(list(range(0, 5, 2)))"
   ]
  },
  {
   "cell_type": "code",
   "execution_count": 14,
   "id": "505ad7bd-7300-4807-9b72-292473850727",
   "metadata": {},
   "outputs": [
    {
     "name": "stdout",
     "output_type": "stream",
     "text": [
      "[2, 3, 4]\n"
     ]
    }
   ],
   "source": [
    "print(list(range(2, 5)))"
   ]
  },
  {
   "cell_type": "code",
   "execution_count": 15,
   "id": "ad911147-b7b4-40f6-855d-6f8ec10774ec",
   "metadata": {},
   "outputs": [
    {
     "name": "stdout",
     "output_type": "stream",
     "text": [
      "[0, 2, 4, 6, 8]\n"
     ]
    }
   ],
   "source": [
    "print(list(range(0, 10, 2)))"
   ]
  },
  {
   "cell_type": "code",
   "execution_count": 20,
   "id": "0941e785-dd31-4076-8b86-aeba3f82a973",
   "metadata": {},
   "outputs": [
    {
     "name": "stdout",
     "output_type": "stream",
     "text": [
      "1\n",
      "2\n",
      "3\n",
      "4\n",
      "5\n",
      "6\n",
      "7\n",
      "8\n",
      "9\n",
      "10\n",
      "Sum of numbers from 1 to 10:  55\n"
     ]
    }
   ],
   "source": [
    "s = 0\n",
    "for i in range(1, 11):\n",
    "    print(i)\n",
    "    s += i\n",
    "print('Sum of numbers from 1 to 10: ', s)"
   ]
  },
  {
   "cell_type": "code",
   "execution_count": 21,
   "id": "d2ecb587-7005-4e63-b783-dbad58bd08d9",
   "metadata": {},
   "outputs": [
    {
     "name": "stdout",
     "output_type": "stream",
     "text": [
      "The sum of numbers from 1 to 10:  55\n"
     ]
    },
    {
     "ename": "TypeError",
     "evalue": "'int' object is not callable",
     "output_type": "error",
     "traceback": [
      "\u001b[1;31m---------------------------------------------------------------------------\u001b[0m",
      "\u001b[1;31mTypeError\u001b[0m                                 Traceback (most recent call last)",
      "Cell \u001b[1;32mIn[21], line 5\u001b[0m\n\u001b[0;32m      3\u001b[0m     \u001b[38;5;28msum\u001b[39m \u001b[38;5;241m+\u001b[39m\u001b[38;5;241m=\u001b[39m i\n\u001b[0;32m      4\u001b[0m \u001b[38;5;28mprint\u001b[39m(\u001b[38;5;124m'\u001b[39m\u001b[38;5;124mThe sum of numbers from 1 to 10: \u001b[39m\u001b[38;5;124m'\u001b[39m, \u001b[38;5;28msum\u001b[39m)\n\u001b[1;32m----> 5\u001b[0m \u001b[38;5;28mprint\u001b[39m(\u001b[38;5;28msum\u001b[39m(\u001b[38;5;28mrange\u001b[39m(\u001b[38;5;241m1\u001b[39m,\u001b[38;5;241m11\u001b[39m)))\n",
      "\u001b[1;31mTypeError\u001b[0m: 'int' object is not callable"
     ]
    }
   ],
   "source": [
    "sum = 0\n",
    "for i in range(1, 11):\n",
    "    sum += i\n",
    "print('The sum of numbers from 1 to 10: ', sum)\n",
    "print(sum(range(1,11)))"
   ]
  },
  {
   "cell_type": "code",
   "execution_count": 23,
   "id": "49694df9-e8c9-49a3-b0ed-2fdb0755f17b",
   "metadata": {},
   "outputs": [
    {
     "name": "stdin",
     "output_type": "stream",
     "text": [
      "enter a number:  51\n"
     ]
    },
    {
     "name": "stdout",
     "output_type": "stream",
     "text": [
      "511 =  51\n"
     ]
    }
   ],
   "source": [
    "n = int(input('enter a number: '))\n",
    "fact = 1\n",
    "for i in range(1, n+1):\n",
    "    fact = fact = i\n",
    "print(str(n)+ '1 = ', fact)"
   ]
  },
  {
   "cell_type": "code",
   "execution_count": 24,
   "id": "0cf53f14-0c5e-4a40-a6b3-b9b631a2365b",
   "metadata": {},
   "outputs": [
    {
     "name": "stdout",
     "output_type": "stream",
     "text": [
      "V\n",
      "J-hope\n",
      "RM\n",
      "Jungbook\n",
      "jin\n",
      "Jimin\n",
      "Suga\n"
     ]
    }
   ],
   "source": [
    "bts = ['V', 'J-hope', 'RM', 'Jungbook', 'jin', 'Jimin', 'Suga']\n",
    "for b in bts:\n",
    "    print(b)"
   ]
  },
  {
   "cell_type": "code",
   "execution_count": 27,
   "id": "274653f8-78d7-4752-8849-0847b9bc0a75",
   "metadata": {},
   "outputs": [
    {
     "name": "stdout",
     "output_type": "stream",
     "text": [
      "Sum of Intergers numbers from 1 to 100:  5050\n"
     ]
    }
   ],
   "source": [
    "s = 0\n",
    "for i in range(1, 101):\n",
    "    s += i\n",
    "   print('Sum of Intergers numbers from 1 to 100: ', s)"
   ]
  },
  {
   "cell_type": "code",
   "execution_count": null,
   "id": "4754a3aa-a044-4024-8492-37a29241e3db",
   "metadata": {},
   "outputs": [],
   "source": []
  }
 ],
 "metadata": {
  "kernelspec": {
   "display_name": "Python 3 (ipykernel)",
   "language": "python",
   "name": "python3"
  },
  "language_info": {
   "codemirror_mode": {
    "name": "ipython",
    "version": 3
   },
   "file_extension": ".py",
   "mimetype": "text/x-python",
   "name": "python",
   "nbconvert_exporter": "python",
   "pygments_lexer": "ipython3",
   "version": "3.11.7"
  }
 },
 "nbformat": 4,
 "nbformat_minor": 5
}
